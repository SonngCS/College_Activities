{
  "nbformat": 4,
  "nbformat_minor": 0,
  "metadata": {
    "colab": {
      "provenance": []
    },
    "kernelspec": {
      "name": "python3",
      "display_name": "Python 3"
    },
    "language_info": {
      "name": "python"
    }
  },
  "cells": [
    {
      "cell_type": "code",
      "execution_count": null,
      "metadata": {
        "colab": {
          "base_uri": "https://localhost:8080/"
        },
        "id": "VDdRvG0yzIo4",
        "outputId": "d8b4827f-d99a-435d-ef59-bf7c08517ee1"
      },
      "outputs": [
        {
          "output_type": "stream",
          "name": "stdout",
          "text": [
            "Collecting pyodbc\n",
            "  Using cached pyodbc-5.1.0-cp310-cp310-manylinux_2_17_x86_64.manylinux2014_x86_64.whl.metadata (2.7 kB)\n",
            "Using cached pyodbc-5.1.0-cp310-cp310-manylinux_2_17_x86_64.manylinux2014_x86_64.whl (334 kB)\n",
            "Installing collected packages: pyodbc\n",
            "Successfully installed pyodbc-5.1.0\n"
          ]
        }
      ],
      "source": [
        "import requests\n",
        "import datetime\n",
        "!pip install pyodbc\n",
        "import pyodbc\n",
        "import holidays"
      ]
    },
    {
      "cell_type": "code",
      "source": [
        "#Informações para conectar-se ao banco\n",
        "\n",
        "SERVER = 'PLACEHOLDER'\n",
        "DATABASE = 'PLACEHOLDER'\n",
        "USERNAME = 'PLACEHOLDER'\n",
        "PASSWORD = 'PLACEHOLDER'"
      ],
      "metadata": {
        "id": "oR4LO4PUzQSY"
      },
      "execution_count": null,
      "outputs": []
    },
    {
      "cell_type": "code",
      "source": [
        "#Estabelecendo conexão\n",
        "\n",
        "connectionString = f'DRIVER={{ODBC Driver 18 for SQL Server}};SERVER={SERVER};DATABASE={DATABASE};UID={USERNAME};PWD={PASSWORD}'\n",
        "\n",
        "conn = pyodbc.connect(connectionString)"
      ],
      "metadata": {
        "id": "NCNulQeHzUOW"
      },
      "execution_count": null,
      "outputs": []
    },
    {
      "cell_type": "code",
      "source": [
        "#Requisitando informações da API\n",
        "\n",
        "# link do open_weather: https://openweathermap.org/\n",
        "# https://openweathermap.org/api/one-call-3\n",
        "\n",
        "API_KEY = \"5643ad2c732eb521a8e7cd2723c3369c\"\n",
        "cidade = \"são vicente\"\n",
        "link = f\"https://api.openweathermap.org/data/2.5/weather?q={cidade}&appid={API_KEY}&lang=pt_br\"\n",
        "\n",
        "requisitions = requests.get(link)\n",
        "informations = requisitions.json()"
      ],
      "metadata": {
        "id": "sraW_pEkzaCz"
      },
      "execution_count": null,
      "outputs": []
    },
    {
      "cell_type": "code",
      "source": [
        "#Traduzindo o dia da semana\n",
        "\n",
        "def get_weekday(time_info):\n",
        "  #currentTime = datetime.now().strftime(\"%H:%M:%S\")\n",
        "  weekDay = datetime.date.today().weekday()\n",
        "\n",
        "  day = [\"Segunda-feira\", \"Terça-feira\", \"Quarta-feira\", \"Quinta-feira\", \"Sexta-feira\", \"Sabado\", \"Domingo\"]\n",
        "\n",
        "  return day[weekDay]\n",
        "\n",
        "#Traduzindo o mês\n",
        "\n",
        "def get_month(time_info):\n",
        "\n",
        "  month = [\"Janeiro\", \"Fevereiro\", \"Março\", \"Abril\", \"Maio\", \"Junho\", \"Julho\", \"Agosto\", \"Setembro\", \"Outubro\", \"Novembro\", \"Dezembro\"]\n",
        "\n",
        "  return month[time_info.month]\n",
        "\n",
        "#Hoje é feriado?\n",
        "\n",
        "def get_holiday(time_info):\n",
        "  feriado = holidays.country_holidays(\"BR\", subdiv=\"SP\")\n",
        "\n",
        "  feriados_ano = feriado[(str(time_info.year) + '-' + \"1\" + '-' \"1\"): (str(time_info.year) + '-' + \"12\" + '-' \"31\")]\n",
        "  data = str(time_info.year) + '-' + str(time_info.month) + '-' + str(time_info.day)\n",
        "  for feriado in feriados_ano:\n",
        "    if(data == feriado):\n",
        "      return True\n",
        "  return False"
      ],
      "metadata": {
        "id": "3zDCG-7yzhS5"
      },
      "execution_count": null,
      "outputs": []
    },
    {
      "cell_type": "code",
      "source": [
        "time_info = datetime.datetime.now()\n",
        "\n",
        "dados = {\n",
        "    \"dia_semana\": get_weekday(time_info),\n",
        "    \"dia_mes\": str(time_info.day),\n",
        "    \"mes\": get_month(time_info),\n",
        "    \"ano\": time_info.year,\n",
        "    \"clima\": informations['weather'][0]['description'],\n",
        "    \"feriado\": get_holiday(time_info),\n",
        "    \"temperatura_med\": round((((round(informations['main']['temp_max']-273, 2)) + (round(informations['main']['temp_min']-273, 2)))/2),2),\n",
        "    \"sensacao_termica\": str(round(informations['main']['feels_like']-273, 1)),\n",
        "    \"umidade\": str(informations['main']['humidity']),\n",
        "    \"velocidade_vento\": str(round(informations['wind']['speed']*3.6, 2)),\n",
        "}"
      ],
      "metadata": {
        "id": "aAYE4OrYzsnm"
      },
      "execution_count": null,
      "outputs": []
    },
    {
      "cell_type": "code",
      "source": [
        "dados"
      ],
      "metadata": {
        "colab": {
          "base_uri": "https://localhost:8080/"
        },
        "id": "GvUNNAwB4xAG",
        "outputId": "e971a0b5-c37c-4fe7-a09c-13866cf7ab0c"
      },
      "execution_count": null,
      "outputs": [
        {
          "output_type": "execute_result",
          "data": {
            "text/plain": [
              "{'dia_semana': 'Terça-feira',\n",
              " 'dia_mes': '17',\n",
              " 'mes': 'Outubro',\n",
              " 'ano': 2024,\n",
              " 'clima': 'névoa',\n",
              " 'feriado': False,\n",
              " 'temperatura_med': 19.63,\n",
              " 'sensacao_termica': '18.9',\n",
              " 'umidade': '26',\n",
              " 'velocidade_vento': '7.42'}"
            ]
          },
          "metadata": {},
          "execution_count": 39
        }
      ]
    },
    {
      "cell_type": "code",
      "source": [
        "#Inserindo informações no banco\n",
        "\n",
        "SQL_STATEMENT = \"\"\"\n",
        "\n",
        "INSERT INTO dbo.tb_noa (dia_semana, dia_mes, mes, ano, clima, feriado, temperatura, umidade, velocidade)\n",
        "VALUES (dados[\"dia_semana\"], dados[\"dia_mes\"], dados[\"mes\"], dados[\"ano\"], dados[\"clima\"], dados[\"feriado\"], dados[\"temperatura_med\"], dados[\"umidade\"], dados[\"velocidade_vento\"]);\n",
        "\n",
        "\"\"\"\n",
        "\n",
        "SQL_QUERY = \"\"\"\n",
        "\n",
        "SELECT * FROM tb_noa\n",
        "\n",
        "\"\"\"\n",
        "\n",
        "cursor = conn.cursor()\n",
        "\n",
        "cursor.execute(SQL_STATEMENT)\n",
        "\n",
        "cursor.execute(SQL_QUERY)\n",
        "\n",
        "records = cursor.fetchall()\n",
        "for r in records:\n",
        "    print(r)\n",
        "\n",
        "conn.commit()\n",
        "cursor.close()\n",
        "conn.close()"
      ],
      "metadata": {
        "id": "0XIdy_0V4ZGd"
      },
      "execution_count": null,
      "outputs": []
    }
  ]
}